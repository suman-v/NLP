{
 "cells": [
  {
   "cell_type": "markdown",
   "metadata": {},
   "source": [
    "# Load Data file"
   ]
  },
  {
   "cell_type": "code",
   "execution_count": 1,
   "metadata": {},
   "outputs": [
    {
     "data": {
      "text/html": [
       "<div>\n",
       "<style scoped>\n",
       "    .dataframe tbody tr th:only-of-type {\n",
       "        vertical-align: middle;\n",
       "    }\n",
       "\n",
       "    .dataframe tbody tr th {\n",
       "        vertical-align: top;\n",
       "    }\n",
       "\n",
       "    .dataframe thead th {\n",
       "        text-align: right;\n",
       "    }\n",
       "</style>\n",
       "<table border=\"1\" class=\"dataframe\">\n",
       "  <thead>\n",
       "    <tr style=\"text-align: right;\">\n",
       "      <th></th>\n",
       "      <th>INGREDIENTS</th>\n",
       "    </tr>\n",
       "  </thead>\n",
       "  <tbody>\n",
       "    <tr>\n",
       "      <th>0</th>\n",
       "      <td>Dried Prunes,Water,Corn Syrup,Sugar,Pectin.</td>\n",
       "    </tr>\n",
       "    <tr>\n",
       "      <th>1</th>\n",
       "      <td>Salt,Sugar,Molasses (Refinery Syrup, Molasses,...</td>\n",
       "    </tr>\n",
       "    <tr>\n",
       "      <th>2</th>\n",
       "      <td>Salt, Yellow 5 Lake, Tricalcium Phosphate And ...</td>\n",
       "    </tr>\n",
       "    <tr>\n",
       "      <th>3</th>\n",
       "      <td>Mechanically hulled seasame seeds.Allergy Info...</td>\n",
       "    </tr>\n",
       "    <tr>\n",
       "      <th>4</th>\n",
       "      <td>FALSE</td>\n",
       "    </tr>\n",
       "  </tbody>\n",
       "</table>\n",
       "</div>"
      ],
      "text/plain": [
       "                                         INGREDIENTS\n",
       "0        Dried Prunes,Water,Corn Syrup,Sugar,Pectin.\n",
       "1  Salt,Sugar,Molasses (Refinery Syrup, Molasses,...\n",
       "2  Salt, Yellow 5 Lake, Tricalcium Phosphate And ...\n",
       "3  Mechanically hulled seasame seeds.Allergy Info...\n",
       "4                                              FALSE"
      ]
     },
     "execution_count": 1,
     "metadata": {},
     "output_type": "execute_result"
    }
   ],
   "source": [
    "import pandas as pd\n",
    "import nltk\n",
    "# nltk.download('averaged_perceptron_tagger')\n",
    "# nltk.download('punkt')\n",
    "# nltk.download('stopwords')\n",
    "from nltk.corpus import stopwords\n",
    "stopwords.words('english')\n",
    "data = pd.read_csv(\"Copy of NLP_COS.csv\")\n",
    "data.head()\n"
   ]
  },
  {
   "cell_type": "markdown",
   "metadata": {},
   "source": [
    "# Text Cleaning"
   ]
  },
  {
   "cell_type": "code",
   "execution_count": 18,
   "metadata": {},
   "outputs": [],
   "source": [
    "import sys, re\n",
    "from termcolor import colored, cprint\n",
    "from nltk.corpus import stopwords\n",
    "cachedStopWords = stopwords.words(\"english\")\n",
    "\n",
    "# remove special characters and remove stop words from text\n",
    "def clean_text(i):\n",
    "    i = i.replace('&', '').replace('(', '').replace(')','').replace('[','').replace(']','')\n",
    "    i = i.replace('\\'', '').replace('\\\\', '')\n",
    "    i = i.replace('.', '').replace('%', '').replace('/','')\n",
    "    i = i.replace('\"', '').replace('*', '').replace(':', '')\n",
    "    i = str.lower(i)\n",
    "    i = re.sub(\" \\d+\", \" \", i)\n",
    "    i = ' '.join([word for word in i.split() if word not in cachedStopWords])   \n",
    "    return i \n",
    " "
   ]
  },
  {
   "cell_type": "code",
   "execution_count": 19,
   "metadata": {},
   "outputs": [
    {
     "name": "stdout",
     "output_type": "stream",
     "text": [
      "error\n",
      "error\n",
      "error\n",
      "error\n",
      "error\n",
      "error\n",
      "error\n",
      "error\n",
      "error\n",
      "error\n",
      "error\n",
      "error\n",
      "error\n",
      "error\n",
      "error\n",
      "error\n",
      "error\n",
      "error\n",
      "error\n",
      "error\n",
      "error\n",
      "error\n",
      "error\n",
      "error\n",
      "error\n",
      "error\n",
      "error\n",
      "error\n"
     ]
    }
   ],
   "source": [
    "import nltk\n",
    "from nltk.stem import WordNetLemmatizer\n",
    "from termcolor import colored, cprint\n",
    "import spacy \n",
    "nlp = spacy.load(\"en_core_web_sm\")\n",
    "\n",
    "# nltk.download('wordnet')\n",
    "stemmer = WordNetLemmatizer()\n",
    "c = 0\n",
    "document = ''\n",
    "for i in data.INGREDIENTS:\n",
    "\n",
    "    try: \n",
    "        text = clean_text(i)\n",
    "        doc = nlp(text)\n",
    "        words = [token.text for token in doc]  # tokenization\n",
    "        words = [stemmer.lemmatize(i) for i in words]  # lemmetization\n",
    "        \n",
    "        sen = ''\n",
    "        for i in words:\n",
    "            sen = \" \".join((sen, i)) \n",
    "\n",
    "        document = \" \".join((document, sen))\n",
    "        c+=1\n",
    "        \n",
    "    except:\n",
    "        print ('error') # handling nan values in data"
   ]
  },
  {
   "cell_type": "markdown",
   "metadata": {},
   "source": [
    "# Printing the raw text and processed text"
   ]
  },
  {
   "cell_type": "code",
   "execution_count": 24,
   "metadata": {},
   "outputs": [
    {
     "name": "stdout",
     "output_type": "stream",
     "text": [
      "******** Raw Text\n",
      "\u001b[31mDried Prunes,Water,Corn Syrup,Sugar,Pectin.\u001b[0m\n",
      "['dried', 'prune', ',', 'water', ',', 'corn', 'syrup', ',', 'sugar', ',', 'pectin']\n",
      "Processed Text ********\n",
      "\u001b[32m dried prune , water , corn syrup , sugar , pectin\u001b[0m\n",
      "******** Raw Text\n",
      "\u001b[31mSalt,Sugar,Molasses (Refinery Syrup, Molasses, Caramel Color),Spices (Including Black Pepper),Garlic Onion,Tapioca Maltodextrin,Bacon Fat and Cooked Bacon (Cured with Water, Salt, Sodium Erythorbate, Sodium Nitrate),Silicon Dioxide (To Make Free Flowing),Autolyzed Yeast,Sunflower Oil,Corn Maltodextrin,Vinegar,Extractives of Paprika,and Natural Flavor (Including Smoke)\u001b[0m\n",
      "['salt', ',', 'sugar', ',', 'molasses', 'refinery', 'syrup', ',', 'molasses', ',', 'caramel', 'color', ',', 'spice', 'including', 'black', 'pepper', ',', 'garlic', 'onion', ',', 'tapioca', 'maltodextrin', ',', 'bacon', 'fat', 'cooked', 'bacon', 'cured', 'water', ',', 'salt', ',', 'sodium', 'erythorbate', ',', 'sodium', 'nitrate', ',', 'silicon', 'dioxide', 'make', 'free', 'flowing', ',', 'autolyzed', 'yeast', ',', 'sunflower', 'oil', ',', 'corn', 'maltodextrin', ',', 'vinegar', ',', 'extractives', 'paprika', ',', 'and', 'natural', 'flavor', 'including', 'smoke']\n",
      "Processed Text ********\n",
      "\u001b[32m salt , sugar , molasses refinery syrup , molasses , caramel color , spice including black pepper , garlic onion , tapioca maltodextrin , bacon fat cooked bacon cured water , salt , sodium erythorbate , sodium nitrate , silicon dioxide make free flowing , autolyzed yeast , sunflower oil , corn maltodextrin , vinegar , extractives paprika , and natural flavor including smoke\u001b[0m\n",
      "******** Raw Text\n",
      "\u001b[31mSalt, Yellow 5 Lake, Tricalcium Phosphate And Artificial Butter Flavor\u001b[0m\n",
      "['salt', ',', 'yellow', 'lake', ',', 'tricalcium', 'phosphate', 'artificial', 'butter', 'flavor']\n",
      "Processed Text ********\n",
      "\u001b[32m salt , yellow lake , tricalcium phosphate artificial butter flavor\u001b[0m\n",
      "******** Raw Text\n",
      "\u001b[31mMechanically hulled seasame seeds.Allergy Information: Packed in a facility that processes wheat, flour, peanuts and tree nuts.,Mechanically hulled seasame seeds.Allergy Information: Packed in a facility that processes wheat,flour,peanuts and tree nuts.\u001b[0m\n",
      "['mechanically', 'hulled', 'seasame', 'seedsallergy', 'information', 'packed', 'facility', 'process', 'wheat', ',', 'flour', ',', 'peanut', 'tree', 'nut', ',', 'mechanically', 'hulled', 'seasame', 'seedsallergy', 'information', 'packed', 'facility', 'process', 'wheat', ',', 'flour', ',', 'peanut', 'tree', 'nut']\n",
      "Processed Text ********\n",
      "\u001b[32m mechanically hulled seasame seedsallergy information packed facility process wheat , flour , peanut tree nut , mechanically hulled seasame seedsallergy information packed facility process wheat , flour , peanut tree nut\u001b[0m\n",
      "******** Raw Text\n",
      "\u001b[31mFALSE\u001b[0m\n",
      "['false']\n",
      "Processed Text ********\n",
      "\u001b[32m false\u001b[0m\n",
      "******** Raw Text\n",
      "\u001b[31mRed Raspberries,Sugar,Glucose Syrup,Citric Acid,Pectin. Contains: Wheat.\u001b[0m\n",
      "['red', 'raspberry', ',', 'sugar', ',', 'glucose', 'syrup', ',', 'citric', 'acid', ',', 'pectin', 'contains', 'wheat']\n",
      "Processed Text ********\n",
      "\u001b[32m red raspberry , sugar , glucose syrup , citric acid , pectin contains wheat\u001b[0m\n",
      "******** Raw Text\n",
      "\u001b[31mNoodles: wheat flour,water,wheat gluten,modified tapioca starch,salt,sodium alginate,lactic acid. Sauce packet: sugar,water,soy sauce (water, soybean, wheat, salt),plum sauce (plum juice, sugar, plum, water, licorice extract, citric acid, sodium citrate, salt, xanthan gum, caramel color),rice vinegar,pineapple juice concentrate,salt,hydrolyzed soy protein,tomato paste,modified corn starch,orange juice concentrate,onion,yeast extract,red chili pepper. Vegetable packet: ...\u001b[0m\n",
      "['noodle', 'wheat', 'flour', ',', 'water', ',', 'wheat', 'gluten', ',', 'modified', 'tapioca', 'starch', ',', 'salt', ',', 'sodium', 'alginate', ',', 'lactic', 'acid', 'sauce', 'packet', 'sugar', ',', 'water', ',', 'soy', 'sauce', 'water', ',', 'soybean', ',', 'wheat', ',', 'salt', ',', 'plum', 'sauce', 'plum', 'juice', ',', 'sugar', ',', 'plum', ',', 'water', ',', 'licorice', 'extract', ',', 'citric', 'acid', ',', 'sodium', 'citrate', ',', 'salt', ',', 'xanthan', 'gum', ',', 'caramel', 'color', ',', 'rice', 'vinegar', ',', 'pineapple', 'juice', 'concentrate', ',', 'salt', ',', 'hydrolyzed', 'soy', 'protein', ',', 'tomato', 'paste', ',', 'modified', 'corn', 'starch', ',', 'orange', 'juice', 'concentrate', ',', 'onion', ',', 'yeast', 'extract', ',', 'red', 'chili', 'pepper', 'vegetable', 'packet']\n",
      "Processed Text ********\n",
      "\u001b[32m noodle wheat flour , water , wheat gluten , modified tapioca starch , salt , sodium alginate , lactic acid sauce packet sugar , water , soy sauce water , soybean , wheat , salt , plum sauce plum juice , sugar , plum , water , licorice extract , citric acid , sodium citrate , salt , xanthan gum , caramel color , rice vinegar , pineapple juice concentrate , salt , hydrolyzed soy protein , tomato paste , modified corn starch , orange juice concentrate , onion , yeast extract , red chili pepper vegetable packet\u001b[0m\n",
      "******** Raw Text\n",
      "\u001b[31mWheat Flour,Soybean Oil,Salt,Dehydrated Garlic,Sugar,Onion Powder,Garlic Powder,Yeast,Spices. Contains: Wheat.\u001b[0m\n",
      "['wheat', 'flour', ',', 'soybean', 'oil', ',', 'salt', ',', 'dehydrated', 'garlic', ',', 'sugar', ',', 'onion', 'powder', ',', 'garlic', 'powder', ',', 'yeast', ',', 'spice', 'contains', 'wheat']\n",
      "Processed Text ********\n",
      "\u001b[32m wheat flour , soybean oil , salt , dehydrated garlic , sugar , onion powder , garlic powder , yeast , spice contains wheat\u001b[0m\n",
      "******** Raw Text\n",
      "\u001b[31mRolled Oats,Brown Rice Syrup,Evaporated Cane Juice,Brown Rice Crisp (Brown Rice, Brown Rice Syrup, Salt),Water,Non-GMO Canola Oil,Oat Bran,Oat Syrup Solids,Chia Seeds,Chicory Root Fiber,Honey,Orange Granules,Natural Flavors,Natural Vitamin E.\u001b[0m\n",
      "['rolled', 'oat', ',', 'brown', 'rice', 'syrup', ',', 'evaporated', 'cane', 'juice', ',', 'brown', 'rice', 'crisp', 'brown', 'rice', ',', 'brown', 'rice', 'syrup', ',', 'salt', ',', 'water', ',', 'non', '-', 'gmo', 'canola', 'oil', ',', 'oat', 'bran', ',', 'oat', 'syrup', 'solid', ',', 'chia', 'seed', ',', 'chicory', 'root', 'fiber', ',', 'honey', ',', 'orange', 'granule', ',', 'natural', 'flavor', ',', 'natural', 'vitamin', 'e']\n",
      "Processed Text ********\n",
      "\u001b[32m rolled oat , brown rice syrup , evaporated cane juice , brown rice crisp brown rice , brown rice syrup , salt , water , non - gmo canola oil , oat bran , oat syrup solid , chia seed , chicory root fiber , honey , orange granule , natural flavor , natural vitamin e\u001b[0m\n",
      "******** Raw Text\n",
      "\u001b[31mSkim Milk,Sugar,Corn Syrup,Canola Oil,High Oleic Sunflower Oil,Calcium Caseinate,Soy Protein Isolate,Corn Oil,Sodium Caseinate,Artificial Flavor,Magnesium Phosphate,Magnesium Chloride,Carrageenan,Soy Lecithin,Sodium Ascorbate,Ferrous Sulfate,Zinc Sulfate,Vitamin E Acetate,Niacinamide,Red 3,Calcium Pantothenate,Cupric Sulfate,Manganese Sulfate,Vitamin A Palmitate,Vitamin B6 Hydrochloride,Thiamin Hydrochloride,Riboflavin,Chromium Chloride,Folic Acid,Vitamin D3,Biotin,Sodium Molybdate,Sodium Selenite,Vitamin K1,Vitamin B12.\u001b[0m\n",
      "['skim', 'milk', ',', 'sugar', ',', 'corn', 'syrup', ',', 'canola', 'oil', ',', 'high', 'oleic', 'sunflower', 'oil', ',', 'calcium', 'caseinate', ',', 'soy', 'protein', 'isolate', ',', 'corn', 'oil', ',', 'sodium', 'caseinate', ',', 'artificial', 'flavor', ',', 'magnesium', 'phosphate', ',', 'magnesium', 'chloride', ',', 'carrageenan', ',', 'soy', 'lecithin', ',', 'sodium', 'ascorbate', ',', 'ferrous', 'sulfate', ',', 'zinc', 'sulfate', ',', 'vitamin', 'e', 'acetate', ',', 'niacinamide', ',', 'red', ',', 'calcium', 'pantothenate', ',', 'cupric', 'sulfate', ',', 'manganese', 'sulfate', ',', 'vitamin', 'palmitate', ',', 'vitamin', 'b6', 'hydrochloride', ',', 'thiamin', 'hydrochloride', ',', 'riboflavin', ',', 'chromium', 'chloride', ',', 'folic', 'acid', ',', 'vitamin', 'd3,biotin', ',', 'sodium', 'molybdate', ',', 'sodium', 'selenite', ',', 'vitamin', 'k1,vitamin', 'b12']\n",
      "Processed Text ********\n",
      "\u001b[32m skim milk , sugar , corn syrup , canola oil , high oleic sunflower oil , calcium caseinate , soy protein isolate , corn oil , sodium caseinate , artificial flavor , magnesium phosphate , magnesium chloride , carrageenan , soy lecithin , sodium ascorbate , ferrous sulfate , zinc sulfate , vitamin e acetate , niacinamide , red , calcium pantothenate , cupric sulfate , manganese sulfate , vitamin palmitate , vitamin b6 hydrochloride , thiamin hydrochloride , riboflavin , chromium chloride , folic acid , vitamin d3,biotin , sodium molybdate , sodium selenite , vitamin k1,vitamin b12\u001b[0m\n",
      "******** Raw Text\n",
      "\u001b[31mFiltered Water,Whole Organic Soybeans,Organic Evaporated Cane Juice,Organic Malt Syrup,Tricalcium Phosphate,Sea Salt,Carrageenan,Organic Natural Vanilla Flavor,Vitamin A Palmitate,Vitamin D2.\u001b[0m\n",
      "['filtered', 'water', ',', 'whole', 'organic', 'soybean', ',', 'organic', 'evaporated', 'cane', 'juice', ',', 'organic', 'malt', 'syrup', ',', 'tricalcium', 'phosphate', ',', 'sea', 'salt', ',', 'carrageenan', ',', 'organic', 'natural', 'vanilla', 'flavor', ',', 'vitamin', 'palmitate', ',', 'vitamin', 'd2']\n",
      "Processed Text ********\n",
      "\u001b[32m filtered water , whole organic soybean , organic evaporated cane juice , organic malt syrup , tricalcium phosphate , sea salt , carrageenan , organic natural vanilla flavor , vitamin palmitate , vitamin d2\u001b[0m\n"
     ]
    }
   ],
   "source": [
    "import nltk\n",
    "from nltk.stem import WordNetLemmatizer\n",
    "from termcolor import colored, cprint\n",
    "import spacy \n",
    "nlp = spacy.load(\"en_core_web_sm\")\n",
    "\n",
    "# nltk.download('wordnet')\n",
    "\n",
    "stemmer = WordNetLemmatizer()\n",
    "c = 0\n",
    "for i in data.INGREDIENTS:\n",
    "    print (8*\"*\",\"Raw Text\")\n",
    "    cprint(i, 'red')\n",
    "    try: \n",
    "        text = clean_text(i)\n",
    "        doc = nlp(text)\n",
    "        words = [token.text for token in doc]  # tokenization\n",
    "        words = [stemmer.lemmatize(i) for i in words]  # lemmetization\n",
    "        print (words)\n",
    "        sen = ''\n",
    "        for i in words:\n",
    "            sen = \" \".join((sen, i)) \n",
    "        \n",
    "        print (\"Processed Text\",8*\"*\")\n",
    "        cprint(sen, 'green')\n",
    "        c+=1\n",
    "        if c > 10:\n",
    "            break\n",
    "        \n",
    "    except:\n",
    "        print ('error')"
   ]
  },
  {
   "cell_type": "markdown",
   "metadata": {},
   "source": [
    "# Cleaned Document"
   ]
  },
  {
   "cell_type": "code",
   "execution_count": 26,
   "metadata": {},
   "outputs": [
    {
     "data": {
      "text/plain": [
       "'  dried prune , water , corn syrup , sugar , pectin  salt , sugar , molasses refinery syrup , molasses , caramel color , spice including black pepper , garlic onion , tapioca maltodextrin , bacon fat cooked bacon cured water , salt , sodium erythorbate , sodium nitrate , silicon dioxide make free flowing , autolyzed yeast , sunflower oil , corn maltodextrin , vinegar , extractives paprika , and natural flavor including smoke  salt , yellow lake , tricalcium phosphate artificial butter flavor  mechanically hulled seasame seedsallergy information packed facility process wheat , flour , peanut tree nut , mechanically hulled seasame seedsallergy information packed facility process wheat , flour , peanut tree nut  false  red raspberry , sugar , glucose syrup , citric acid , pectin contains wheat  noodle wheat flour , water , wheat gluten , modified tapioca starch , salt , sodium alginate , lactic acid sauce packet sugar , water , soy sauce water , soybean , wheat , salt , plum sauce plum ju'"
      ]
     },
     "execution_count": 26,
     "metadata": {},
     "output_type": "execute_result"
    }
   ],
   "source": [
    "document[:1000]"
   ]
  },
  {
   "cell_type": "code",
   "execution_count": 58,
   "metadata": {},
   "outputs": [],
   "source": [
    "document = document[:1000].split(\",\")"
   ]
  },
  {
   "cell_type": "markdown",
   "metadata": {},
   "source": [
    "# Count of words"
   ]
  },
  {
   "cell_type": "code",
   "execution_count": 59,
   "metadata": {},
   "outputs": [
    {
     "data": {
      "text/plain": [
       "{' water ': 3,\n",
       " ' sugar ': 3,\n",
       " ' salt ': 3,\n",
       " ' flour ': 2,\n",
       " '  dried prune ': 1,\n",
       " ' corn syrup ': 1,\n",
       " ' pectin  salt ': 1,\n",
       " ' molasses refinery syrup ': 1,\n",
       " ' molasses ': 1,\n",
       " ' caramel color ': 1,\n",
       " ' spice including black pepper ': 1,\n",
       " ' garlic onion ': 1,\n",
       " ' tapioca maltodextrin ': 1,\n",
       " ' bacon fat cooked bacon cured water ': 1,\n",
       " ' sodium erythorbate ': 1,\n",
       " ' sodium nitrate ': 1,\n",
       " ' silicon dioxide make free flowing ': 1,\n",
       " ' autolyzed yeast ': 1,\n",
       " ' sunflower oil ': 1,\n",
       " ' corn maltodextrin ': 1,\n",
       " ' vinegar ': 1,\n",
       " ' extractives paprika ': 1,\n",
       " ' and natural flavor including smoke  salt ': 1,\n",
       " ' yellow lake ': 1,\n",
       " ' tricalcium phosphate artificial butter flavor  mechanically hulled seasame seedsallergy information packed facility process wheat ': 1,\n",
       " ' peanut tree nut ': 1,\n",
       " ' mechanically hulled seasame seedsallergy information packed facility process wheat ': 1,\n",
       " ' peanut tree nut  false  red raspberry ': 1,\n",
       " ' glucose syrup ': 1,\n",
       " ' citric acid ': 1,\n",
       " ' pectin contains wheat  noodle wheat flour ': 1,\n",
       " ' wheat gluten ': 1,\n",
       " ' modified tapioca starch ': 1,\n",
       " ' sodium alginate ': 1,\n",
       " ' lactic acid sauce packet sugar ': 1,\n",
       " ' soy sauce water ': 1,\n",
       " ' soybean ': 1,\n",
       " ' wheat ': 1,\n",
       " ' plum sauce plum ju': 1}"
      ]
     },
     "execution_count": 59,
     "metadata": {},
     "output_type": "execute_result"
    }
   ],
   "source": [
    "from collections import Counter\n",
    "\n",
    "word_freq = Counter(d)\n",
    "common_words = word_freq.most_common(500)\n",
    "# print (common_words)\n",
    "dict_name = {}\n",
    "for i in common_words:\n",
    "    dict_name.update({i[0]: i[1]})\n",
    "dict_name "
   ]
  },
  {
   "cell_type": "markdown",
   "metadata": {},
   "source": [
    "# Named Entity Recognition"
   ]
  },
  {
   "cell_type": "code",
   "execution_count": 61,
   "metadata": {},
   "outputs": [
    {
     "name": "stdout",
     "output_type": "stream",
     "text": [
      "Salt,Sugar,Molasses (Refinery Syrup, Molasses, Caramel Color),Spices (Including Black Pepper),Garlic Onion,Tapioca Maltodextrin,Bacon Fat and Cooked Bacon (Cured with Water, Salt, Sodium Erythorbate, Sodium Nitrate),Silicon Dioxide (To Make Free Flowing),Autolyzed Yeast,Sunflower Oil,Corn Maltodextrin,Vinegar,Extractives of Paprika,and Natural Flavor (Including Smoke)\n",
      "0 Sugar PERSON\n",
      "1 Tapioca Maltodextrin PERSON\n",
      "2 Bacon Fat ORG\n",
      "3 Cooked Bacon PERSON\n",
      "4 Dioxide PERSON\n",
      "5 Yeast PERSON\n",
      "6 Sunflower Oil PERSON\n",
      "7 Maltodextrin ORG\n",
      "8 Vinegar GPE\n"
     ]
    }
   ],
   "source": [
    "import spacy\n",
    "\n",
    "# Load English tokenizer, tagger, parser, NER and word vectors\n",
    "nlp = spacy.load(\"en_core_web_sm\")\n",
    "\n",
    "# Process whole documents\n",
    "text = (\"Salt,Sugar,Molasses (Refinery Syrup, Molasses, Caramel Color),Spices (Including Black Pepper),Garlic Onion,Tapioca Maltodextrin,Bacon Fat and Cooked Bacon (Cured with Water, Salt, Sodium Erythorbate, Sodium Nitrate),Silicon Dioxide (To Make Free Flowing),Autolyzed Yeast,Sunflower Oil,Corn Maltodextrin,Vinegar,Extractives of Paprika,and Natural Flavor (Including Smoke)\")\n",
    "doc = nlp(text)\n",
    "\n",
    "# Analyze syntax\n",
    "# print(\"Noun phrases:\", [chunk.text for chunk in doc.noun_chunks])\n",
    "# print(\"Verbs:\", [token.lemma_ for token in doc if token.pos_ == \"VERB\"])\n",
    "\n",
    "# Find named entities, phrases and concepts\n",
    "print (text)\n",
    "n= 0\n",
    "for entity in doc.ents:\n",
    "    print(n,entity.text, entity.label_)\n",
    "    n= n+1"
   ]
  },
  {
   "cell_type": "code",
   "execution_count": null,
   "metadata": {},
   "outputs": [],
   "source": []
  }
 ],
 "metadata": {
  "kernelspec": {
   "display_name": "Python 3",
   "language": "python",
   "name": "python3"
  },
  "language_info": {
   "codemirror_mode": {
    "name": "ipython",
    "version": 3
   },
   "file_extension": ".py",
   "mimetype": "text/x-python",
   "name": "python",
   "nbconvert_exporter": "python",
   "pygments_lexer": "ipython3",
   "version": "3.8.3"
  }
 },
 "nbformat": 4,
 "nbformat_minor": 4
}
